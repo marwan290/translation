{
 "cells": [
  {
   "cell_type": "code",
   "execution_count": 1,
   "id": "5115a141",
   "metadata": {},
   "outputs": [],
   "source": [
    "import numpy as np\n",
    "import pandas as pd\n",
    "import matplotlib.pyplot as plt\n",
    "\n",
    "from sklearn.model_selection import train_test_split\n",
    "from sklearn.feature_extraction.text import CountVectorizer\n",
    "from sklearn.linear_model import LogisticRegression\n",
    "from sklearn.metrics import accuracy_score\n",
    "\n",
    "import pickle\n",
    "\n",
    "\n"
   ]
  },
  {
   "cell_type": "code",
   "execution_count": 2,
   "id": "d03a22a4",
   "metadata": {},
   "outputs": [],
   "source": [
    "PATH = r'Language_det_train.csv'"
   ]
  },
  {
   "cell_type": "code",
   "execution_count": 3,
   "id": "8d268a90",
   "metadata": {},
   "outputs": [],
   "source": [
    "df = pd.read_csv(PATH)"
   ]
  },
  {
   "cell_type": "code",
   "execution_count": 4,
   "id": "ba9fa352",
   "metadata": {},
   "outputs": [],
   "source": [
    "df = df[df['Language'].isin(['Arabic','English'])]"
   ]
  },
  {
   "cell_type": "code",
   "execution_count": 5,
   "id": "74fb48d0",
   "metadata": {},
   "outputs": [],
   "source": [
    "# target_values = ['Arabic','English']\n",
    "# # Create a boolean mask to identify rows where the 'Language' column doesn't match the target values\n",
    "# mask = ~df['Language'].isin(target_values)\n",
    "\n",
    "# # Update the 'Language' column for the rows that don't match the target values\n",
    "# df.loc[mask, 'Language'] = 'Other'"
   ]
  },
  {
   "cell_type": "code",
   "execution_count": 6,
   "id": "502b8d04",
   "metadata": {},
   "outputs": [
    {
     "data": {
      "text/html": [
       "<div>\n",
       "<style scoped>\n",
       "    .dataframe tbody tr th:only-of-type {\n",
       "        vertical-align: middle;\n",
       "    }\n",
       "\n",
       "    .dataframe tbody tr th {\n",
       "        vertical-align: top;\n",
       "    }\n",
       "\n",
       "    .dataframe thead th {\n",
       "        text-align: right;\n",
       "    }\n",
       "</style>\n",
       "<table border=\"1\" class=\"dataframe\">\n",
       "  <thead>\n",
       "    <tr style=\"text-align: right;\">\n",
       "      <th></th>\n",
       "      <th>Text</th>\n",
       "      <th>Language</th>\n",
       "    </tr>\n",
       "  </thead>\n",
       "  <tbody>\n",
       "    <tr>\n",
       "      <th>4</th>\n",
       "      <td>تعرف على ما إذا كان شخص ما يقول نكتة رائعة يمك...</td>\n",
       "      <td>Arabic</td>\n",
       "    </tr>\n",
       "    <tr>\n",
       "      <th>8</th>\n",
       "      <td>you were saying .if somebody got a job of his ...</td>\n",
       "      <td>English</td>\n",
       "    </tr>\n",
       "    <tr>\n",
       "      <th>16</th>\n",
       "      <td>هذا سؤال جيد.</td>\n",
       "      <td>Arabic</td>\n",
       "    </tr>\n",
       "    <tr>\n",
       "      <th>17</th>\n",
       "      <td>[23] عزا فريق في مركز بالو ألتو للأبحاث هذا ال...</td>\n",
       "      <td>Arabic</td>\n",
       "    </tr>\n",
       "    <tr>\n",
       "      <th>25</th>\n",
       "      <td>إنها جيدة بالنسبة لك ، سيكون أفضل بدونك وهذا م...</td>\n",
       "      <td>Arabic</td>\n",
       "    </tr>\n",
       "  </tbody>\n",
       "</table>\n",
       "</div>"
      ],
      "text/plain": [
       "                                                 Text Language\n",
       "4   تعرف على ما إذا كان شخص ما يقول نكتة رائعة يمك...   Arabic\n",
       "8   you were saying .if somebody got a job of his ...  English\n",
       "16                                      هذا سؤال جيد.   Arabic\n",
       "17  [23] عزا فريق في مركز بالو ألتو للأبحاث هذا ال...   Arabic\n",
       "25  إنها جيدة بالنسبة لك ، سيكون أفضل بدونك وهذا م...   Arabic"
      ]
     },
     "execution_count": 6,
     "metadata": {},
     "output_type": "execute_result"
    }
   ],
   "source": [
    "df.head()"
   ]
  },
  {
   "cell_type": "code",
   "execution_count": 7,
   "id": "ff1daa23",
   "metadata": {},
   "outputs": [
    {
     "ename": "SyntaxError",
     "evalue": "invalid syntax (<ipython-input-7-caaf18c7b3cc>, line 1)",
     "output_type": "error",
     "traceback": [
      "\u001b[1;36m  File \u001b[1;32m\"<ipython-input-7-caaf18c7b3cc>\"\u001b[1;36m, line \u001b[1;32m1\u001b[0m\n\u001b[1;33m    DataFrame named df with a column named \"Language\" containing the categories\u001b[0m\n\u001b[1;37m              ^\u001b[0m\n\u001b[1;31mSyntaxError\u001b[0m\u001b[1;31m:\u001b[0m invalid syntax\n"
     ]
    }
   ],
   "source": [
    " DataFrame named df with a column named \"Language\" containing the categories\n",
    "\n",
    "# Count the number of instances in each category\n",
    "category_counts = df['Language'].value_counts()\n",
    "\n",
    "# Plotting the bar chart\n",
    "category_counts.plot(kind='bar')\n",
    "plt.xlabel('Categories')\n",
    "plt.ylabel('Counts')\n",
    "plt.title('Number of Instances in Each Category')\n",
    "plt.show()\n"
   ]
  },
  {
   "cell_type": "code",
   "execution_count": null,
   "id": "7b706bf8",
   "metadata": {},
   "outputs": [],
   "source": [
    "# Step 1: Load and preprocess the data\n",
    "# Assume you have a list of sentences `sentences` and their corresponding labels `labels`\n",
    "sentences = list(df['Text'])  # List of sentences\n",
    "labels = list(df['Language'])  # List of corresponding labels"
   ]
  },
  {
   "cell_type": "code",
   "execution_count": null,
   "id": "557c4c6a",
   "metadata": {},
   "outputs": [],
   "source": [
    "# Step 2: Split the data into training and test sets\n",
    "train_sentences, test_sentences, train_labels, test_labels = train_test_split(\n",
    "    sentences, labels, test_size=0.2, random_state=42\n",
    ")\n"
   ]
  },
  {
   "cell_type": "code",
   "execution_count": null,
   "id": "2b985360",
   "metadata": {},
   "outputs": [],
   "source": [
    "# Step 3: Feature extraction\n",
    "vectorizer = CountVectorizer()\n",
    "train_features = vectorizer.fit_transform(train_sentences)\n",
    "test_features = vectorizer.transform(test_sentences)"
   ]
  },
  {
   "cell_type": "code",
   "execution_count": null,
   "id": "28b79ec3",
   "metadata": {},
   "outputs": [],
   "source": [
    "# Step 4: Train the language detection model\n",
    "model = LogisticRegression()\n",
    "model.fit(train_features, train_labels)\n"
   ]
  },
  {
   "cell_type": "code",
   "execution_count": null,
   "id": "67245b1f",
   "metadata": {},
   "outputs": [],
   "source": [
    "# Step 5: Evaluate the model\n",
    "predictions = model.predict(test_features)\n",
    "accuracy = accuracy_score(test_labels, predictions)\n",
    "print(\"Accuracy:\", accuracy)"
   ]
  },
  {
   "cell_type": "code",
   "execution_count": null,
   "id": "111d02cb",
   "metadata": {},
   "outputs": [],
   "source": [
    "from sklearn.metrics import classification_report\n",
    "# Step 5: Evaluate the model\n",
    "predictions = model.predict(test_features)\n",
    "accuracy = classification_report(test_labels, predictions)\n",
    "print(\"Accuracy:\", accuracy)"
   ]
  },
  {
   "cell_type": "code",
   "execution_count": null,
   "id": "8c8d84c7",
   "metadata": {},
   "outputs": [],
   "source": [
    "def predict_language(sentence, vectorizer, model):\n",
    "    # Preprocess the sentence\n",
    "#     preprocessed_sentence = preprocess(sentence)  # Replace `preprocess` with your own preprocessing function\n",
    "\n",
    "    # Convert the preprocessed sentence into numerical features\n",
    "    features = vectorizer.transform([sentence])\n",
    "\n",
    "    # Make the prediction using the language detection model\n",
    "    predicted_label = model.predict(features)[0]\n",
    "\n",
    "    return predicted_label"
   ]
  },
  {
   "cell_type": "code",
   "execution_count": null,
   "id": "ba643dc1",
   "metadata": {},
   "outputs": [],
   "source": [
    "%%time\n",
    "predict_language('help me please,', vectorizer, model)"
   ]
  },
  {
   "cell_type": "code",
   "execution_count": null,
   "id": "d77c0d91",
   "metadata": {},
   "outputs": [],
   "source": [
    "def save_variable(variable, filepath):\n",
    "    with open(filepath, 'wb') as file:\n",
    "        pickle.dump(variable, file)"
   ]
  },
  {
   "cell_type": "code",
   "execution_count": null,
   "id": "c91a5e5c",
   "metadata": {},
   "outputs": [],
   "source": [
    "save_variable(vectorizer,\"lang_vectorizer.pkl\")"
   ]
  },
  {
   "cell_type": "code",
   "execution_count": null,
   "id": "c413c20a",
   "metadata": {},
   "outputs": [],
   "source": [
    "save_variable(model,\"lang_model.pkl\")"
   ]
  },
  {
   "cell_type": "code",
   "execution_count": null,
   "id": "7d286562",
   "metadata": {},
   "outputs": [],
   "source": []
  }
 ],
 "metadata": {
  "kernelspec": {
   "display_name": "Python 3",
   "language": "python",
   "name": "python3"
  },
  "language_info": {
   "codemirror_mode": {
    "name": "ipython",
    "version": 3
   },
   "file_extension": ".py",
   "mimetype": "text/x-python",
   "name": "python",
   "nbconvert_exporter": "python",
   "pygments_lexer": "ipython3",
   "version": "3.8.8"
  }
 },
 "nbformat": 4,
 "nbformat_minor": 5
}
